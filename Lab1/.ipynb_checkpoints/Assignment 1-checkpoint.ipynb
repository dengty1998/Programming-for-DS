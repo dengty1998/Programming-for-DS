{
 "cells": [
  {
   "cell_type": "markdown",
   "metadata": {},
   "source": [
    "# ID2214/FID3214 Assignment 1 Group no. [enter]\n",
    "### Project members: \n",
    "[Enter Name, email]\n",
    "[Enter Name, email]\n",
    "[Enter Name, email]\n",
    "[Enter Name, email]\n",
    "\n",
    "### Declaration:\n",
    "By submitting this solution, it is hereby declared that all individuals listed above have contributed to the solution, either with code that appear in the final solution below, or with code that has been evaluated and compared to the final solution, but for some reason has been excluded. It is also declared that all project members fully understand all parts of the final solution and can explain it upon request.\n",
    "\n",
    "It is furthermore declared that the code below is a contribution by the project members only, and specifically that no part of the solution has been copied from any other source (except for lecture slides at the course ID2214/FID3214) and no part of the solution has been provided by someone not listed as project member above.\n",
    "\n",
    "It is furthermore declared that it has been understood that no other library/package than the Python 3 standard library, NumPy and pandas may be used in the solution for this assignment.\n",
    "\n",
    "### Instructions\n",
    "All parts of the assignment starting with number 1 below are mandatory. Satisfactory solutions\n",
    "will give 1 point (in total). If they in addition are good (all parts work more or less \n",
    "as they should), completed on time (submitted before the deadline in Canvas) and according\n",
    "to the instructions, together with satisfactory solutions of all parts of the assignment starting \n",
    "with number 2 below, then the assignment will receive 2 points (in total).\n",
    "\n",
    "Note that you do not have to develop the code directly within the notebook\n",
    "but may instead copy the comments and test cases to a more convenient development environment\n",
    "and when everything works as expected, you may paste your functions into this\n",
    "notebook, do a final testing (all cells should succeed), save the notebook including the output\n",
    "and submit the whole notebook (a single file) in Canvas (do not forget to fill in your group number\n",
    "and names above)."
   ]
  },
  {
   "cell_type": "markdown",
   "metadata": {},
   "source": [
    "## Load NumPy and pandas"
   ]
  },
  {
   "cell_type": "code",
   "execution_count": 3,
   "metadata": {},
   "outputs": [],
   "source": [
    "import numpy as np\n",
    "import pandas as pd"
   ]
  },
  {
   "cell_type": "code",
   "execution_count": 4,
   "metadata": {},
   "outputs": [
    {
     "name": "stdout",
     "output_type": "stream",
     "text": [
      "Python version: 3.9.13\n",
      "NumPy version: 1.21.5\n",
      "Pandas version: 1.4.4\n"
     ]
    }
   ],
   "source": [
    "from platform import python_version\n",
    "\n",
    "print(f\"Python version: {python_version()}\")\n",
    "print(f\"NumPy version: {np.__version__}\")\n",
    "print(f\"Pandas version: {pd.__version__}\")"
   ]
  },
  {
   "cell_type": "markdown",
   "metadata": {},
   "source": [
    "## 1a. Create and apply column filter"
   ]
  },
  {
   "cell_type": "code",
   "execution_count": 5,
   "metadata": {},
   "outputs": [],
   "source": [
    "# Insert the functions create_column_filter and apply_column_filter below (after the comments)\n",
    "#\n",
    "# Input to create_column_filter:\n",
    "# df - a dataframe (where the column names \"CLASS\" and \"ID\" have special meaning)\n",
    "#\n",
    "# Output from create_filter:\n",
    "# df            - a new dataframe, where columns, except \"CLASS\" and \"ID\", containing only missing values \n",
    "#                 or only one unique value (apart from the missing values) have been dropped\n",
    "# column_filter - a list of the names of the remaining columns, including \"CLASS\" and \"ID\"\n",
    "#\n",
    "# Hint 1: First copy the input dataframe and modify the copy (the input dataframe should be kept unchanged)\n",
    "#\n",
    "# Hint 2: Iterate through all columns and consider to drop a column only if it is not labeled \"CLASS\" or \"ID\"\n",
    "#\n",
    "# Hint 3: You may check the number of unique (non-missing) values in a column by applying the pandas functions\n",
    "#         dropna and unique to drop missing values and get the unique (remaining) values\n",
    "#\n",
    "# Input to apply_column_filter:\n",
    "# df            - a dataframe\n",
    "# column_filter - a list of the names of the columns to keep (see above)\n",
    "#\n",
    "# Output from apply_column_filter:\n",
    "# df - a new dataframe, where each column that is not included in column_filter has been dropped\n",
    "#\n",
    "# Hint 1: First copy the input dataframe and modify the copy (the input dataframe should be kept unchanged)"
   ]
  },
  {
   "cell_type": "code",
   "execution_count": 6,
   "metadata": {},
   "outputs": [
    {
     "ename": "NameError",
     "evalue": "name 'create_column_filter' is not defined",
     "output_type": "error",
     "traceback": [
      "\u001b[1;31m---------------------------------------------------------------------------\u001b[0m",
      "\u001b[1;31mNameError\u001b[0m                                 Traceback (most recent call last)",
      "\u001b[1;32m~\\AppData\\Local\\Temp\\ipykernel_11688\\2453499789.py\u001b[0m in \u001b[0;36m<module>\u001b[1;34m\u001b[0m\n\u001b[0;32m      3\u001b[0m \u001b[0mdf\u001b[0m \u001b[1;33m=\u001b[0m \u001b[0mpd\u001b[0m\u001b[1;33m.\u001b[0m\u001b[0mDataFrame\u001b[0m\u001b[1;33m(\u001b[0m\u001b[1;33m{\u001b[0m\u001b[1;34m\"CLASS\"\u001b[0m\u001b[1;33m:\u001b[0m\u001b[1;33m[\u001b[0m\u001b[1;36m1\u001b[0m\u001b[1;33m,\u001b[0m\u001b[1;36m0\u001b[0m\u001b[1;33m,\u001b[0m\u001b[1;36m1\u001b[0m\u001b[1;33m,\u001b[0m\u001b[1;36m0\u001b[0m\u001b[1;33m,\u001b[0m\u001b[1;36m1\u001b[0m\u001b[1;33m]\u001b[0m\u001b[1;33m,\u001b[0m\u001b[1;34m\"A\"\u001b[0m\u001b[1;33m:\u001b[0m\u001b[1;33m[\u001b[0m\u001b[1;36m1\u001b[0m\u001b[1;33m,\u001b[0m\u001b[1;36m2\u001b[0m\u001b[1;33m,\u001b[0m\u001b[0mnp\u001b[0m\u001b[1;33m.\u001b[0m\u001b[0mnan\u001b[0m\u001b[1;33m,\u001b[0m\u001b[1;36m4\u001b[0m\u001b[1;33m,\u001b[0m\u001b[1;36m5\u001b[0m\u001b[1;33m]\u001b[0m\u001b[1;33m,\u001b[0m\u001b[1;34m\"B\"\u001b[0m\u001b[1;33m:\u001b[0m\u001b[1;33m[\u001b[0m\u001b[1;36m1\u001b[0m\u001b[1;33m,\u001b[0m\u001b[1;36m1\u001b[0m\u001b[1;33m,\u001b[0m\u001b[1;36m1\u001b[0m\u001b[1;33m,\u001b[0m\u001b[1;36m1\u001b[0m\u001b[1;33m,\u001b[0m\u001b[0mnp\u001b[0m\u001b[1;33m.\u001b[0m\u001b[0mnan\u001b[0m\u001b[1;33m]\u001b[0m\u001b[1;33m,\u001b[0m\u001b[1;34m\"C\"\u001b[0m\u001b[1;33m:\u001b[0m\u001b[1;33m[\u001b[0m\u001b[1;34m\"h\"\u001b[0m\u001b[1;33m,\u001b[0m\u001b[1;34m\"h\"\u001b[0m\u001b[1;33m,\u001b[0m\u001b[0mnp\u001b[0m\u001b[1;33m.\u001b[0m\u001b[0mnan\u001b[0m\u001b[1;33m,\u001b[0m\u001b[1;34m\"i\"\u001b[0m\u001b[1;33m,\u001b[0m\u001b[1;34m\"h\"\u001b[0m\u001b[1;33m]\u001b[0m\u001b[1;33m,\u001b[0m\u001b[1;34m\"D\"\u001b[0m\u001b[1;33m:\u001b[0m\u001b[1;33m[\u001b[0m\u001b[0mnp\u001b[0m\u001b[1;33m.\u001b[0m\u001b[0mnan\u001b[0m\u001b[1;33m,\u001b[0m\u001b[0mnp\u001b[0m\u001b[1;33m.\u001b[0m\u001b[0mnan\u001b[0m\u001b[1;33m,\u001b[0m\u001b[0mnp\u001b[0m\u001b[1;33m.\u001b[0m\u001b[0mnan\u001b[0m\u001b[1;33m,\u001b[0m\u001b[0mnp\u001b[0m\u001b[1;33m.\u001b[0m\u001b[0mnan\u001b[0m\u001b[1;33m,\u001b[0m\u001b[0mnp\u001b[0m\u001b[1;33m.\u001b[0m\u001b[0mnan\u001b[0m\u001b[1;33m]\u001b[0m\u001b[1;33m}\u001b[0m\u001b[1;33m)\u001b[0m\u001b[1;33m\u001b[0m\u001b[1;33m\u001b[0m\u001b[0m\n\u001b[0;32m      4\u001b[0m \u001b[1;33m\u001b[0m\u001b[0m\n\u001b[1;32m----> 5\u001b[1;33m \u001b[0mfiltered_df\u001b[0m\u001b[1;33m,\u001b[0m \u001b[0mcolumn_filter\u001b[0m \u001b[1;33m=\u001b[0m \u001b[0mcreate_column_filter\u001b[0m\u001b[1;33m(\u001b[0m\u001b[0mdf\u001b[0m\u001b[1;33m)\u001b[0m\u001b[1;33m\u001b[0m\u001b[1;33m\u001b[0m\u001b[0m\n\u001b[0m\u001b[0;32m      6\u001b[0m \u001b[1;33m\u001b[0m\u001b[0m\n\u001b[0;32m      7\u001b[0m \u001b[0mnew_df\u001b[0m \u001b[1;33m=\u001b[0m \u001b[0mpd\u001b[0m\u001b[1;33m.\u001b[0m\u001b[0mDataFrame\u001b[0m\u001b[1;33m(\u001b[0m\u001b[1;33m{\u001b[0m\u001b[1;34m\"CLASS\"\u001b[0m\u001b[1;33m:\u001b[0m\u001b[1;33m[\u001b[0m\u001b[1;36m1\u001b[0m\u001b[1;33m,\u001b[0m\u001b[1;36m0\u001b[0m\u001b[1;33m,\u001b[0m\u001b[1;36m0\u001b[0m\u001b[1;33m]\u001b[0m\u001b[1;33m,\u001b[0m\u001b[1;34m\"A\"\u001b[0m\u001b[1;33m:\u001b[0m\u001b[1;33m[\u001b[0m\u001b[1;36m4\u001b[0m\u001b[1;33m,\u001b[0m\u001b[1;36m5\u001b[0m\u001b[1;33m,\u001b[0m\u001b[1;36m6\u001b[0m\u001b[1;33m]\u001b[0m\u001b[1;33m,\u001b[0m\u001b[1;34m\"B\"\u001b[0m\u001b[1;33m:\u001b[0m\u001b[1;33m[\u001b[0m\u001b[1;36m1\u001b[0m\u001b[1;33m,\u001b[0m\u001b[1;36m2\u001b[0m\u001b[1;33m,\u001b[0m\u001b[1;36m1\u001b[0m\u001b[1;33m]\u001b[0m\u001b[1;33m,\u001b[0m\u001b[1;34m\"C\"\u001b[0m\u001b[1;33m:\u001b[0m\u001b[1;33m[\u001b[0m\u001b[0mnp\u001b[0m\u001b[1;33m.\u001b[0m\u001b[0mnan\u001b[0m\u001b[1;33m,\u001b[0m\u001b[0mnp\u001b[0m\u001b[1;33m.\u001b[0m\u001b[0mnan\u001b[0m\u001b[1;33m,\u001b[0m\u001b[0mnp\u001b[0m\u001b[1;33m.\u001b[0m\u001b[0mnan\u001b[0m\u001b[1;33m]\u001b[0m\u001b[1;33m,\u001b[0m\u001b[1;34m\"D\"\u001b[0m\u001b[1;33m:\u001b[0m\u001b[1;33m[\u001b[0m\u001b[0mnp\u001b[0m\u001b[1;33m.\u001b[0m\u001b[0mnan\u001b[0m\u001b[1;33m,\u001b[0m\u001b[1;36m4\u001b[0m\u001b[1;33m,\u001b[0m\u001b[1;36m5\u001b[0m\u001b[1;33m]\u001b[0m\u001b[1;33m}\u001b[0m\u001b[1;33m)\u001b[0m\u001b[1;33m\u001b[0m\u001b[1;33m\u001b[0m\u001b[0m\n",
      "\u001b[1;31mNameError\u001b[0m: name 'create_column_filter' is not defined"
     ]
    }
   ],
   "source": [
    "# Test your code (leave this part unchanged)\n",
    "\n",
    "df = pd.DataFrame({\"CLASS\":[1,0,1,0,1],\"A\":[1,2,np.nan,4,5],\"B\":[1,1,1,1,np.nan],\"C\":[\"h\",\"h\",np.nan,\"i\",\"h\"],\"D\":[np.nan,np.nan,np.nan,np.nan,np.nan]})\n",
    "\n",
    "filtered_df, column_filter = create_column_filter(df)\n",
    "\n",
    "new_df = pd.DataFrame({\"CLASS\":[1,0,0],\"A\":[4,5,6],\"B\":[1,2,1],\"C\":[np.nan,np.nan,np.nan],\"D\":[np.nan,4,5]})\n",
    "\n",
    "filtered_new_df = apply_column_filter(new_df,column_filter)\n",
    "\n",
    "display(\"df\",df)\n",
    "display(\"filtered_df\",filtered_df)\n",
    "display(\"new_df\",new_df)\n",
    "display(\"filtered_new_df\",filtered_new_df)"
   ]
  },
  {
   "cell_type": "markdown",
   "metadata": {},
   "source": [
    "## 1b. Create and apply normalization"
   ]
  },
  {
   "cell_type": "code",
   "execution_count": 7,
   "metadata": {},
   "outputs": [],
   "source": [
    "# Insert the functions create_normalization and apply_normalization below (after the comments)\n",
    "#\n",
    "# Input to create_normalization:\n",
    "# df: a dataframe (where the column names \"CLASS\" and \"ID\" have special meaning)\n",
    "# normalizationtype: \"minmax\" (default) or \"zscore\"\n",
    "#\n",
    "# Output from create_normalization:\n",
    "# df            - a new dataframe, where each numeric value in a column has been replaced by a normalized value\n",
    "# normalization - a mapping (dictionary) from each column name to a triple, consisting of\n",
    "#                (\"minmax\",min_value,max_value) or (\"zscore\",mean,std)\n",
    "#\n",
    "# Hint 1: First copy the input dataframe and modify the copy (the input dataframe should be kept unchanged)\n",
    "#\n",
    "# Hint 2: Consider columns of type \"float\" or \"int\" only (and which are not labeled \"CLASS\" or \"ID\"),\n",
    "#         the other columns should remain unchanged\n",
    "#\n",
    "# Hint 3: Take a close look at the lecture slides on data preparation\n",
    "#\n",
    "# Input to apply_normalization:\n",
    "# df            - a dataframe\n",
    "# normalization - a mapping (dictionary) from column names to triples (see above)\n",
    "#\n",
    "# Output from apply_normalization:\n",
    "# df - a new dataframe, where each numerical value has been normalized according to the mapping\n",
    "#\n",
    "# Hint 1: First copy the input dataframe and modify the copy (the input dataframe should be kept unchanged)\n",
    "#\n",
    "# Hint 2: For minmax-normalization, you may consider to limit the output range to [0,1]"
   ]
  },
  {
   "cell_type": "code",
   "execution_count": 8,
   "metadata": {},
   "outputs": [
    {
     "ename": "NameError",
     "evalue": "name 'create_normalization' is not defined",
     "output_type": "error",
     "traceback": [
      "\u001b[1;31m---------------------------------------------------------------------------\u001b[0m",
      "\u001b[1;31mNameError\u001b[0m                                 Traceback (most recent call last)",
      "\u001b[1;32m~\\AppData\\Local\\Temp\\ipykernel_11688\\1431968662.py\u001b[0m in \u001b[0;36m<module>\u001b[1;34m\u001b[0m\n\u001b[0;32m      5\u001b[0m \u001b[0mglass_test_df\u001b[0m \u001b[1;33m=\u001b[0m \u001b[0mpd\u001b[0m\u001b[1;33m.\u001b[0m\u001b[0mread_csv\u001b[0m\u001b[1;33m(\u001b[0m\u001b[1;34m\"glass_test.csv\"\u001b[0m\u001b[1;33m)\u001b[0m\u001b[1;33m\u001b[0m\u001b[1;33m\u001b[0m\u001b[0m\n\u001b[0;32m      6\u001b[0m \u001b[1;33m\u001b[0m\u001b[0m\n\u001b[1;32m----> 7\u001b[1;33m \u001b[0mglass_train_norm\u001b[0m\u001b[1;33m,\u001b[0m \u001b[0mnormalization\u001b[0m \u001b[1;33m=\u001b[0m \u001b[0mcreate_normalization\u001b[0m\u001b[1;33m(\u001b[0m\u001b[0mglass_train_df\u001b[0m\u001b[1;33m,\u001b[0m\u001b[0mnormalizationtype\u001b[0m\u001b[1;33m=\u001b[0m\u001b[1;34m\"minmax\"\u001b[0m\u001b[1;33m)\u001b[0m\u001b[1;33m\u001b[0m\u001b[1;33m\u001b[0m\u001b[0m\n\u001b[0m\u001b[0;32m      8\u001b[0m \u001b[0mprint\u001b[0m\u001b[1;33m(\u001b[0m\u001b[1;34m\"normalization:\\n\"\u001b[0m\u001b[1;33m)\u001b[0m\u001b[1;33m\u001b[0m\u001b[1;33m\u001b[0m\u001b[0m\n\u001b[0;32m      9\u001b[0m \u001b[1;32mfor\u001b[0m \u001b[0mf\u001b[0m \u001b[1;32min\u001b[0m \u001b[0mnormalization\u001b[0m\u001b[1;33m:\u001b[0m\u001b[1;33m\u001b[0m\u001b[1;33m\u001b[0m\u001b[0m\n",
      "\u001b[1;31mNameError\u001b[0m: name 'create_normalization' is not defined"
     ]
    }
   ],
   "source": [
    "# Test your code (leave this part unchanged)\n",
    "\n",
    "glass_train_df = pd.read_csv(\"glass_train.csv\")\n",
    "\n",
    "glass_test_df = pd.read_csv(\"glass_test.csv\")\n",
    "\n",
    "glass_train_norm, normalization = create_normalization(glass_train_df,normalizationtype=\"minmax\")\n",
    "print(\"normalization:\\n\")\n",
    "for f in normalization:\n",
    "    print(\"{}:{}\".format(f,normalization[f]))\n",
    "\n",
    "print()\n",
    "    \n",
    "glass_test_norm = apply_normalization(glass_test_df,normalization)\n",
    "display(\"glass_test_norm\",glass_test_norm)"
   ]
  },
  {
   "cell_type": "markdown",
   "metadata": {},
   "source": [
    "### Comment on assumptions, things that do not work properly, etc.\n"
   ]
  },
  {
   "cell_type": "markdown",
   "metadata": {},
   "source": [
    "## 1c. Create and apply imputation"
   ]
  },
  {
   "cell_type": "code",
   "execution_count": 84,
   "metadata": {},
   "outputs": [],
   "source": [
    "# Insert the functions create_imputation and apply_imputation below (after the comments)\n",
    "#\n",
    "# Input to create_imputation:\n",
    "# df: a dataframe (where the column names \"CLASS\" and \"ID\" have special meaning)\n",
    "#\n",
    "# Output from create_imputation:\n",
    "# df         - a new dataframe, where each missing numeric value in a column has been replaced by the mean of that column \n",
    "#              and each missing categoric value in a column has been replaced by the mode of that column\n",
    "# imputation - a mapping (dictionary) from column name to value that has replaced missing values\n",
    "#\n",
    "# Hint 1: First copy the input dataframe and modify the copy (the input dataframe should be kept unchanged)\n",
    "#\n",
    "# Hint 2: Handle columns of type \"float\" or \"int\" only (and which are not labeled \"CLASS\" or \"ID\") in one way\n",
    "#         and columns of type \"object\" and \"category\" in other ways\n",
    "#\n",
    "# Hint 3: Consider using the pandas functions mean and mode respectively, as well as fillna\n",
    "#\n",
    "# Hint 4: In the rare case of all values in a column being missing*, replace numeric values with 0,\n",
    "#         object values with \"\" and category values with the first category (cat.categories[0])  \n",
    "#\n",
    "#         *Note that this will not occur if the previous column filter function has been applied\n",
    "#\n",
    "# Input to apply_imputation:\n",
    "# df         - a dataframe\n",
    "# imputation - a mapping (dictionary) from column name to value that should replace missing values\n",
    "#\n",
    "# Output from apply_imputation:\n",
    "# df - a new dataframe, where each missing value has been replaced according to the mapping\n",
    "#\n",
    "# Hint 1: First copy the input dataframe and modify the copy (the input dataframe should be kept unchanged)\n",
    "#\n",
    "# Hint 2: Consider using fillna\n",
    "def create_imputation(df):\n",
    "    df_copy = df.copy()\n",
    "    imputation = {}\n",
    "\n",
    "    for col in df_copy.columns:\n",
    "        if col not in ['ID', 'CLASS']:\n",
    "            if df[col].dtype == 'float' or df[col].dtype == 'int': \n",
    "                mean_val = df[col].mean()\n",
    "                df_copy[col] = df_copy[col].fillna(mean_val)\n",
    "                imputation[col] = mean_val\n",
    "            elif df[col].dtype == 'object' or df[col].dtype.name == 'category': \n",
    "                mode_val = df[col].mode()[0]\n",
    "                df_copy[col] = df_copy[col].fillna(mode_val)\n",
    "                imputation[col] = mode_val\n",
    "    return df_copy, imputation\n",
    "\n",
    "def apply_imputation(df, imputation):\n",
    "    df_copy = df.copy()\n",
    "\n",
    "    for col, value in imputation.items():\n",
    "        df_copy[col] = df_copy[col].fillna(value)\n",
    "\n",
    "    return df_copy\n"
   ]
  },
  {
   "cell_type": "code",
   "execution_count": 85,
   "metadata": {},
   "outputs": [
    {
     "name": "stdout",
     "output_type": "stream",
     "text": [
      "Imputation:\n",
      "\n",
      "family:TN\n",
      "product-type:C\n",
      "steel:A\n",
      "temper_rolling:T\n",
      "condition:S\n",
      "formability:2.2517482517482517\n",
      "non-ageing:N\n",
      "surface-finish:P\n",
      "surface-quality:E\n",
      "enamelability:1.7142857142857142\n",
      "bc:Y\n",
      "bf:Y\n",
      "bt:Y\n",
      "bw/me:B\n",
      "bl:Y\n",
      "m:nan\n",
      "chrom:C\n",
      "phos:P\n",
      "cbond:Y\n",
      "marvi:nan\n",
      "exptl:nan\n",
      "ferro:Y\n",
      "corr:nan\n",
      "blue-bright-varn-clean:B\n",
      "lustre:Y\n",
      "jurofm:nan\n",
      "s:nan\n",
      "p:nan\n",
      "shape:SHEET\n",
      "thick:1.1911937639198227\n",
      "width:769.4917594654789\n",
      "oil:Y\n",
      "packing:3.0\n",
      "\n",
      "No. of replaced missing values in training data:\n",
      "family                    382\n",
      "product-type                0\n",
      "steel                      43\n",
      "carbon                      0\n",
      "hardness                    0\n",
      "temper_rolling            374\n",
      "condition                 160\n",
      "formability               163\n",
      "strength                    0\n",
      "non-ageing                391\n",
      "surface-finish            444\n",
      "surface-quality           128\n",
      "enamelability             442\n",
      "bc                        448\n",
      "bf                        401\n",
      "bt                        411\n",
      "bw/me                     349\n",
      "bl                        377\n",
      "m                           0\n",
      "chrom                     432\n",
      "phos                      447\n",
      "cbond                     408\n",
      "marvi                       0\n",
      "exptl                       0\n",
      "ferro                     433\n",
      "corr                        0\n",
      "blue-bright-varn-clean    445\n",
      "lustre                    425\n",
      "jurofm                      0\n",
      "s                           0\n",
      "p                           0\n",
      "shape                       0\n",
      "thick                       0\n",
      "width                       0\n",
      "len                         0\n",
      "oil                       414\n",
      "bore                        0\n",
      "packing                   445\n",
      "CLASS                       0\n",
      "dtype: int64\n",
      "\n",
      "No. of replaced missing values in test data:\n",
      "family                    390\n",
      "product-type                0\n",
      "steel                      43\n",
      "carbon                      0\n",
      "hardness                    0\n",
      "temper_rolling            387\n",
      "condition                 143\n",
      "formability               155\n",
      "strength                    0\n",
      "non-ageing                402\n",
      "surface-finish            445\n",
      "surface-quality           116\n",
      "enamelability             440\n",
      "bc                        449\n",
      "bf                        368\n",
      "bt                        413\n",
      "bw/me                     338\n",
      "bl                        372\n",
      "m                           0\n",
      "chrom                     440\n",
      "phos                      444\n",
      "cbond                     416\n",
      "marvi                       0\n",
      "exptl                       0\n",
      "ferro                     435\n",
      "corr                        0\n",
      "blue-bright-varn-clean    447\n",
      "lustre                    422\n",
      "jurofm                      0\n",
      "s                           0\n",
      "p                           0\n",
      "shape                       0\n",
      "thick                       0\n",
      "width                       0\n",
      "len                         0\n",
      "oil                       420\n",
      "bore                        0\n",
      "packing                   444\n",
      "CLASS                       0\n",
      "dtype: int64\n"
     ]
    }
   ],
   "source": [
    "# Test your code (leave this part unchanged)\n",
    "\n",
    "anneal_train_df = pd.read_csv(\"anneal_train.csv\")\n",
    "anneal_test_df = pd.read_csv(\"anneal_test.csv\")\n",
    "\n",
    "anneal_train_imp, imputation = create_imputation(anneal_train_df)\n",
    "anneal_test_imp = apply_imputation(anneal_test_df,imputation)\n",
    "\n",
    "print(\"Imputation:\\n\")\n",
    "for f in imputation:\n",
    "    print(\"{}:{}\".format(f,imputation[f]))\n",
    "\n",
    "print(\"\\nNo. of replaced missing values in training data:\\n{}\".format(anneal_train_imp.count()-anneal_train_df.count()))\n",
    "print(\"\\nNo. of replaced missing values in test data:\\n{}\".format(anneal_test_imp.count()-anneal_test_df.count()))"
   ]
  },
  {
   "cell_type": "markdown",
   "metadata": {},
   "source": [
    "### Comment on assumptions, things that do not work properly, etc."
   ]
  },
  {
   "cell_type": "markdown",
   "metadata": {},
   "source": [
    "## 1d. Create and apply discretization"
   ]
  },
  {
   "cell_type": "code",
   "execution_count": 88,
   "metadata": {},
   "outputs": [],
   "source": [
    "# Insert the functions create_bins and apply_bins below\n",
    "#\n",
    "# Input to create_bins:\n",
    "# df      - a dataframe\n",
    "# nobins  - no. of bins (default = 10)\n",
    "# bintype - either \"equal-width\" (default) or \"equal-size\" \n",
    "#\n",
    "# Output from create_bins:\n",
    "# df      - a new dataframe, where each numeric feature value has been replaced by a categoric (corresponding to some bin)\n",
    "# binning - a mapping (dictionary) from column name to bins (threshold values for the bin)\n",
    "#\n",
    "# Hint 1: First copy the input dataframe and modify the copy (the input dataframe should be kept unchanged)\n",
    "#\n",
    "# Hint 2: Discretize columns of type \"float\" or \"int\" only (and which are not labeled \"CLASS\" or \"ID\")\n",
    "#\n",
    "# Hint 3: Consider using pd.cut and pd.qcut respectively, with labels=False and retbins=True\n",
    "#\n",
    "# Hint 4: Set all columns in the new dataframe to be of type \"category\"\n",
    "#\n",
    "# Hint 5: Set the categories of the discretized features to be [0,...,nobins-1]\n",
    "#\n",
    "# Hint 6: Change the first and the last element of each binning to -np.inf and np.inf respectively \n",
    "#\n",
    "# Input to apply_bins:\n",
    "# df      - a dataframe\n",
    "# binning - a mapping (dictionary) from column name to bins (threshold values for the bin)\n",
    "#\n",
    "# Output from apply_bins:\n",
    "# df - a new dataframe, where each numeric feature value has been replaced by a categoric (corresponding to some bin)\n",
    "#\n",
    "# Hint 1: First copy the input dataframe and modify the copy (the input dataframe should be kept unchanged)\n",
    "#\n",
    "# Hint 2: Consider using pd.cut \n",
    "#\n",
    "# Hint 3: Set all columns in the new dataframe to be of type \"category\"\n",
    "#\n",
    "# Hint 4: Set the categories of the discretized features to be [0,...,nobins-1]\n",
    "\n",
    "\n",
    "def create_bins(df, nobins=10, bintype='equal-width'):\n",
    "    df_copy = df.copy()\n",
    "    binning = {}\n",
    "\n",
    "    for col in df_copy.columns:\n",
    "        if col not in ['ID', 'CLASS'] and df_copy[col].dtype in ['float', 'int']:\n",
    "            if bintype == 'equal-width':\n",
    "                df_copy[col], bins = pd.cut(df_copy[col], nobins, retbins=True, labels=False)\n",
    "            elif bintype == 'equal-size':\n",
    "                df_copy[col], bins = pd.qcut(df_copy[col], nobins, retbins=True, labels=False, duplicates='drop')\n",
    "            bins[0], bins[-1] = -np.inf, np.inf\n",
    "            binning[col] = bins\n",
    "            df_copy[col] = df_copy[col].astype('category')\n",
    "            df_copy[col] = df_copy[col].cat.set_categories([str(i) for i in df_copy[col].cat.categories], rename=True)\n",
    "        else:\n",
    "            df_copy[col] = df_copy[col].astype('category')\n",
    "\n",
    "    return df_copy, binning\n",
    "\n",
    "def apply_bins(df, binning):\n",
    "    df_copy = df.copy()\n",
    "\n",
    "    for col, bins in binning.items():\n",
    "        df_copy[col] = pd.cut(df_copy[col], bins, labels=False)\n",
    "        df_copy[col] = df_copy[col].astype('category')\n",
    "        df_copy[col] = df_copy[col].cat.set_categories([str(i) for i in df_copy[col].cat.categories], rename=True)\n",
    "\n",
    "    return df_copy"
   ]
  },
  {
   "cell_type": "code",
   "execution_count": 89,
   "metadata": {},
   "outputs": [
    {
     "name": "stdout",
     "output_type": "stream",
     "text": [
      "binning:\n",
      "RI:[    -inf 1.515896 1.51618  1.516516 1.516866 1.51753  1.517902 1.518618\n",
      " 1.520114 1.521846      inf]\n",
      "Na:[  -inf 12.73  12.872 13.    13.222 13.38  13.492 13.794 14.198 14.82\n",
      "    inf]\n",
      "Mg:[ -inf 1.82  3.188 3.41  3.476 3.55  3.61  3.728   inf]\n",
      "Al:[ -inf 0.906 1.172 1.23  1.348 1.48  1.54  1.622 1.808 2.094   inf]\n",
      "Si:[  -inf 71.756 72.196 72.388 72.72  72.79  72.966 73.06  73.208 73.372\n",
      "    inf]\n",
      "K:[ -inf 0.006 0.148 0.39  0.54  0.576 0.6   0.636 0.67    inf]\n",
      "Ca:[  -inf  7.978  8.112  8.338  8.554  8.67   8.81   9.032  9.674 10.924\n",
      "    inf]\n",
      "Ba:[-inf 0.78  inf]\n",
      "Fe:[ -inf 0.062 0.118 0.24    inf]\n",
      "\n"
     ]
    },
    {
     "data": {
      "text/plain": [
       "'glass_test_disc'"
      ]
     },
     "metadata": {},
     "output_type": "display_data"
    },
    {
     "data": {
      "text/html": [
       "<div>\n",
       "<style scoped>\n",
       "    .dataframe tbody tr th:only-of-type {\n",
       "        vertical-align: middle;\n",
       "    }\n",
       "\n",
       "    .dataframe tbody tr th {\n",
       "        vertical-align: top;\n",
       "    }\n",
       "\n",
       "    .dataframe thead th {\n",
       "        text-align: right;\n",
       "    }\n",
       "</style>\n",
       "<table border=\"1\" class=\"dataframe\">\n",
       "  <thead>\n",
       "    <tr style=\"text-align: right;\">\n",
       "      <th></th>\n",
       "      <th>ID</th>\n",
       "      <th>RI</th>\n",
       "      <th>Na</th>\n",
       "      <th>Mg</th>\n",
       "      <th>Al</th>\n",
       "      <th>Si</th>\n",
       "      <th>K</th>\n",
       "      <th>Ca</th>\n",
       "      <th>Ba</th>\n",
       "      <th>Fe</th>\n",
       "      <th>CLASS</th>\n",
       "    </tr>\n",
       "  </thead>\n",
       "  <tbody>\n",
       "    <tr>\n",
       "      <th>0</th>\n",
       "      <td>101</td>\n",
       "      <td>3</td>\n",
       "      <td>1</td>\n",
       "      <td>1</td>\n",
       "      <td>4</td>\n",
       "      <td>8</td>\n",
       "      <td>4</td>\n",
       "      <td>5</td>\n",
       "      <td>0</td>\n",
       "      <td>2</td>\n",
       "      <td>2</td>\n",
       "    </tr>\n",
       "    <tr>\n",
       "      <th>1</th>\n",
       "      <td>104</td>\n",
       "      <td>9</td>\n",
       "      <td>7</td>\n",
       "      <td>1</td>\n",
       "      <td>0</td>\n",
       "      <td>0</td>\n",
       "      <td>1</td>\n",
       "      <td>9</td>\n",
       "      <td>0</td>\n",
       "      <td>0</td>\n",
       "      <td>2</td>\n",
       "    </tr>\n",
       "    <tr>\n",
       "      <th>2</th>\n",
       "      <td>44</td>\n",
       "      <td>9</td>\n",
       "      <td>6</td>\n",
       "      <td>7</td>\n",
       "      <td>0</td>\n",
       "      <td>1</td>\n",
       "      <td>2</td>\n",
       "      <td>8</td>\n",
       "      <td>0</td>\n",
       "      <td>0</td>\n",
       "      <td>1</td>\n",
       "    </tr>\n",
       "    <tr>\n",
       "      <th>3</th>\n",
       "      <td>17</td>\n",
       "      <td>5</td>\n",
       "      <td>0</td>\n",
       "      <td>6</td>\n",
       "      <td>1</td>\n",
       "      <td>7</td>\n",
       "      <td>6</td>\n",
       "      <td>5</td>\n",
       "      <td>0</td>\n",
       "      <td>0</td>\n",
       "      <td>1</td>\n",
       "    </tr>\n",
       "    <tr>\n",
       "      <th>4</th>\n",
       "      <td>81</td>\n",
       "      <td>1</td>\n",
       "      <td>1</td>\n",
       "      <td>4</td>\n",
       "      <td>9</td>\n",
       "      <td>3</td>\n",
       "      <td>8</td>\n",
       "      <td>0</td>\n",
       "      <td>0</td>\n",
       "      <td>0</td>\n",
       "      <td>2</td>\n",
       "    </tr>\n",
       "    <tr>\n",
       "      <th>...</th>\n",
       "      <td>...</td>\n",
       "      <td>...</td>\n",
       "      <td>...</td>\n",
       "      <td>...</td>\n",
       "      <td>...</td>\n",
       "      <td>...</td>\n",
       "      <td>...</td>\n",
       "      <td>...</td>\n",
       "      <td>...</td>\n",
       "      <td>...</td>\n",
       "      <td>...</td>\n",
       "    </tr>\n",
       "    <tr>\n",
       "      <th>102</th>\n",
       "      <td>80</td>\n",
       "      <td>1</td>\n",
       "      <td>1</td>\n",
       "      <td>4</td>\n",
       "      <td>8</td>\n",
       "      <td>5</td>\n",
       "      <td>8</td>\n",
       "      <td>0</td>\n",
       "      <td>0</td>\n",
       "      <td>0</td>\n",
       "      <td>2</td>\n",
       "    </tr>\n",
       "    <tr>\n",
       "      <th>103</th>\n",
       "      <td>141</td>\n",
       "      <td>4</td>\n",
       "      <td>4</td>\n",
       "      <td>4</td>\n",
       "      <td>6</td>\n",
       "      <td>3</td>\n",
       "      <td>8</td>\n",
       "      <td>1</td>\n",
       "      <td>0</td>\n",
       "      <td>0</td>\n",
       "      <td>2</td>\n",
       "    </tr>\n",
       "    <tr>\n",
       "      <th>104</th>\n",
       "      <td>14</td>\n",
       "      <td>4</td>\n",
       "      <td>1</td>\n",
       "      <td>5</td>\n",
       "      <td>3</td>\n",
       "      <td>8</td>\n",
       "      <td>3</td>\n",
       "      <td>3</td>\n",
       "      <td>0</td>\n",
       "      <td>2</td>\n",
       "      <td>1</td>\n",
       "    </tr>\n",
       "    <tr>\n",
       "      <th>105</th>\n",
       "      <td>132</td>\n",
       "      <td>9</td>\n",
       "      <td>6</td>\n",
       "      <td>0</td>\n",
       "      <td>4</td>\n",
       "      <td>0</td>\n",
       "      <td>2</td>\n",
       "      <td>9</td>\n",
       "      <td>0</td>\n",
       "      <td>1</td>\n",
       "      <td>2</td>\n",
       "    </tr>\n",
       "    <tr>\n",
       "      <th>106</th>\n",
       "      <td>102</td>\n",
       "      <td>4</td>\n",
       "      <td>0</td>\n",
       "      <td>1</td>\n",
       "      <td>7</td>\n",
       "      <td>5</td>\n",
       "      <td>8</td>\n",
       "      <td>7</td>\n",
       "      <td>0</td>\n",
       "      <td>0</td>\n",
       "      <td>2</td>\n",
       "    </tr>\n",
       "  </tbody>\n",
       "</table>\n",
       "<p>107 rows × 11 columns</p>\n",
       "</div>"
      ],
      "text/plain": [
       "      ID RI Na Mg Al Si  K Ca Ba Fe  CLASS\n",
       "0    101  3  1  1  4  8  4  5  0  2      2\n",
       "1    104  9  7  1  0  0  1  9  0  0      2\n",
       "2     44  9  6  7  0  1  2  8  0  0      1\n",
       "3     17  5  0  6  1  7  6  5  0  0      1\n",
       "4     81  1  1  4  9  3  8  0  0  0      2\n",
       "..   ... .. .. .. .. .. .. .. .. ..    ...\n",
       "102   80  1  1  4  8  5  8  0  0  0      2\n",
       "103  141  4  4  4  6  3  8  1  0  0      2\n",
       "104   14  4  1  5  3  8  3  3  0  2      1\n",
       "105  132  9  6  0  4  0  2  9  0  1      2\n",
       "106  102  4  0  1  7  5  8  7  0  0      2\n",
       "\n",
       "[107 rows x 11 columns]"
      ]
     },
     "metadata": {},
     "output_type": "display_data"
    }
   ],
   "source": [
    "# Test your code  (leave this part unchanged)\n",
    "\n",
    "glass_train_df = pd.read_csv(\"glass_train.csv\")\n",
    "\n",
    "glass_test_df = pd.read_csv(\"glass_test.csv\")\n",
    "\n",
    "glass_train_disc, binning = create_bins(glass_train_df,nobins=10,bintype=\"equal-size\")\n",
    "print(\"binning:\")\n",
    "for f in binning:\n",
    "    print(\"{}:{}\".format(f,binning[f]))\n",
    "\n",
    "print()    \n",
    "glass_test_disc = apply_bins(glass_test_df,binning)\n",
    "display(\"glass_test_disc\",glass_test_disc)"
   ]
  },
  {
   "cell_type": "markdown",
   "metadata": {},
   "source": [
    "### Comment on assumptions, things that do not work properly, etc."
   ]
  },
  {
   "cell_type": "markdown",
   "metadata": {},
   "source": [
    "## 1e. Create and apply one-hot encoding"
   ]
  },
  {
   "cell_type": "code",
   "execution_count": 18,
   "metadata": {},
   "outputs": [],
   "source": [
    "# Insert the functions create_one_hot and apply_one_hot below\n",
    "#\n",
    "# Input to create_one_hot:\n",
    "# df: a dataframe\n",
    "#\n",
    "# Output from create_one_hot:\n",
    "# df      - a new dataframe, where each categoric feature has been replaced by a set of binary features \n",
    "#           (as many new features as there are possible values)\n",
    "# one_hot - a mapping (dictionary) from column name to a set of categories (possible values for the feature)\n",
    "#\n",
    "# Hint 1: First copy the input dataframe and modify the copy (the input dataframe should be kept unchanged)\n",
    "#\n",
    "# Hint 2: Consider columns of type \"object\" or \"category\" only (and which are not labeled \"CLASS\" or \"ID\")\n",
    "#\n",
    "# Hint 3: Consider creating new column names by merging the original column name and the categorical value\n",
    "#\n",
    "# Hint 4: Set all new columns to be of type \"float\"\n",
    "#\n",
    "# Hint 5: Do not forget to remove the original categoric feature\n",
    "#\n",
    "# Input to apply_one_hot:\n",
    "# df      - a dataframe\n",
    "# one_hot - a mapping (dictionary) from column name to categories\n",
    "#\n",
    "# Output from apply_one_hot:\n",
    "# df - a new dataframe, where each categoric feature has been replaced by a set of binary features\n",
    "#\n",
    "# Hint: See the above Hints\n",
    "\n",
    "def create_one_hot(df):\n",
    "    df_copy = df.copy()\n",
    "    one_hot = {}\n",
    "    \n",
    "    selected_columns = df_copy.select_dtypes(include=['object', 'category']).items()\n",
    "\n",
    "    for col, value in selected_columns:\n",
    "        if col not in ['CLASS', 'ID']:\n",
    "            unique_values = value.unique()\n",
    "            one_hot[col] = unique_values\n",
    "\n",
    "            for val in unique_values:\n",
    "                new_col_name = f\"{col}_{str(val)}\"\n",
    "                df_copy[new_col_name] = (value == val).astype('float')\n",
    "\n",
    "            df_copy.drop(col, axis=1, inplace=True)\n",
    "\n",
    "    return df_copy, one_hot\n",
    "\n",
    "def apply_one_hot(df, one_hot):\n",
    "    df_copy = df.copy()\n",
    "\n",
    "    for col, value in one_hot.items():\n",
    "        for val in value:\n",
    "            new_col_name = f'{col}_{str(val)}'\n",
    "            df_copy[new_col_name] = (df_copy[col] == val).astype('float')\n",
    "\n",
    "        df_copy.drop(col, axis=1, inplace=True)\n",
    "\n",
    "    return df_copy"
   ]
  },
  {
   "cell_type": "code",
   "execution_count": 19,
   "metadata": {
    "scrolled": true
   },
   "outputs": [
    {
     "ename": "ValueError",
     "evalue": "Length of values (3) does not match length of index (479)",
     "output_type": "error",
     "traceback": [
      "\u001b[1;31m---------------------------------------------------------------------------\u001b[0m",
      "\u001b[1;31mValueError\u001b[0m                                Traceback (most recent call last)",
      "\u001b[1;32m~\\AppData\\Local\\Temp\\ipykernel_14976\\3614301414.py\u001b[0m in \u001b[0;36m<module>\u001b[1;34m\u001b[0m\n\u001b[0;32m      7\u001b[0m \u001b[0mtest_df\u001b[0m \u001b[1;33m=\u001b[0m \u001b[0mpd\u001b[0m\u001b[1;33m.\u001b[0m\u001b[0mread_csv\u001b[0m\u001b[1;33m(\u001b[0m\u001b[1;34m\"tic-tac-toe_test.csv\"\u001b[0m\u001b[1;33m)\u001b[0m\u001b[1;33m\u001b[0m\u001b[1;33m\u001b[0m\u001b[0m\n\u001b[0;32m      8\u001b[0m \u001b[1;33m\u001b[0m\u001b[0m\n\u001b[1;32m----> 9\u001b[1;33m \u001b[0mnew_test_df\u001b[0m \u001b[1;33m=\u001b[0m \u001b[0mapply_one_hot\u001b[0m\u001b[1;33m(\u001b[0m\u001b[0mtest_df\u001b[0m\u001b[1;33m,\u001b[0m\u001b[0mone_hot\u001b[0m\u001b[1;33m)\u001b[0m\u001b[1;33m\u001b[0m\u001b[1;33m\u001b[0m\u001b[0m\n\u001b[0m\u001b[0;32m     10\u001b[0m \u001b[0mdisplay\u001b[0m\u001b[1;33m(\u001b[0m\u001b[1;34m\"new_test_df\"\u001b[0m\u001b[1;33m,\u001b[0m\u001b[0mnew_test_df\u001b[0m\u001b[1;33m)\u001b[0m\u001b[1;33m\u001b[0m\u001b[1;33m\u001b[0m\u001b[0m\n",
      "\u001b[1;32m~\\AppData\\Local\\Temp\\ipykernel_14976\\671925585.py\u001b[0m in \u001b[0;36mapply_one_hot\u001b[1;34m(df, one_hot)\u001b[0m\n\u001b[0;32m     53\u001b[0m         \u001b[1;32mfor\u001b[0m \u001b[0mval\u001b[0m \u001b[1;32min\u001b[0m \u001b[0mvalue\u001b[0m\u001b[1;33m:\u001b[0m\u001b[1;33m\u001b[0m\u001b[1;33m\u001b[0m\u001b[0m\n\u001b[0;32m     54\u001b[0m             \u001b[0mnew_col_name\u001b[0m \u001b[1;33m=\u001b[0m \u001b[1;34mf'{col}_{str(val)}'\u001b[0m\u001b[1;33m\u001b[0m\u001b[1;33m\u001b[0m\u001b[0m\n\u001b[1;32m---> 55\u001b[1;33m             \u001b[0mdf_copy\u001b[0m\u001b[1;33m[\u001b[0m\u001b[0mnew_col_name\u001b[0m\u001b[1;33m]\u001b[0m \u001b[1;33m=\u001b[0m \u001b[1;33m(\u001b[0m\u001b[0mvalue\u001b[0m \u001b[1;33m==\u001b[0m \u001b[0mval\u001b[0m\u001b[1;33m)\u001b[0m\u001b[1;33m.\u001b[0m\u001b[0mastype\u001b[0m\u001b[1;33m(\u001b[0m\u001b[1;34m'float'\u001b[0m\u001b[1;33m)\u001b[0m\u001b[1;33m\u001b[0m\u001b[1;33m\u001b[0m\u001b[0m\n\u001b[0m\u001b[0;32m     56\u001b[0m \u001b[1;33m\u001b[0m\u001b[0m\n\u001b[0;32m     57\u001b[0m         \u001b[0mdf_copy\u001b[0m\u001b[1;33m.\u001b[0m\u001b[0mdrop\u001b[0m\u001b[1;33m(\u001b[0m\u001b[0mcol\u001b[0m\u001b[1;33m,\u001b[0m \u001b[0maxis\u001b[0m\u001b[1;33m=\u001b[0m\u001b[1;36m1\u001b[0m\u001b[1;33m,\u001b[0m \u001b[0minplace\u001b[0m\u001b[1;33m=\u001b[0m\u001b[1;32mTrue\u001b[0m\u001b[1;33m)\u001b[0m\u001b[1;33m\u001b[0m\u001b[1;33m\u001b[0m\u001b[0m\n",
      "\u001b[1;32mD:\\Coding\\Anaconda3\\lib\\site-packages\\pandas\\core\\frame.py\u001b[0m in \u001b[0;36m__setitem__\u001b[1;34m(self, key, value)\u001b[0m\n\u001b[0;32m   3653\u001b[0m         \u001b[1;32melse\u001b[0m\u001b[1;33m:\u001b[0m\u001b[1;33m\u001b[0m\u001b[1;33m\u001b[0m\u001b[0m\n\u001b[0;32m   3654\u001b[0m             \u001b[1;31m# set column\u001b[0m\u001b[1;33m\u001b[0m\u001b[1;33m\u001b[0m\u001b[0m\n\u001b[1;32m-> 3655\u001b[1;33m             \u001b[0mself\u001b[0m\u001b[1;33m.\u001b[0m\u001b[0m_set_item\u001b[0m\u001b[1;33m(\u001b[0m\u001b[0mkey\u001b[0m\u001b[1;33m,\u001b[0m \u001b[0mvalue\u001b[0m\u001b[1;33m)\u001b[0m\u001b[1;33m\u001b[0m\u001b[1;33m\u001b[0m\u001b[0m\n\u001b[0m\u001b[0;32m   3656\u001b[0m \u001b[1;33m\u001b[0m\u001b[0m\n\u001b[0;32m   3657\u001b[0m     \u001b[1;32mdef\u001b[0m \u001b[0m_setitem_slice\u001b[0m\u001b[1;33m(\u001b[0m\u001b[0mself\u001b[0m\u001b[1;33m,\u001b[0m \u001b[0mkey\u001b[0m\u001b[1;33m:\u001b[0m \u001b[0mslice\u001b[0m\u001b[1;33m,\u001b[0m \u001b[0mvalue\u001b[0m\u001b[1;33m)\u001b[0m\u001b[1;33m:\u001b[0m\u001b[1;33m\u001b[0m\u001b[1;33m\u001b[0m\u001b[0m\n",
      "\u001b[1;32mD:\\Coding\\Anaconda3\\lib\\site-packages\\pandas\\core\\frame.py\u001b[0m in \u001b[0;36m_set_item\u001b[1;34m(self, key, value)\u001b[0m\n\u001b[0;32m   3830\u001b[0m         \u001b[0mensure\u001b[0m \u001b[0mhomogeneity\u001b[0m\u001b[1;33m.\u001b[0m\u001b[1;33m\u001b[0m\u001b[1;33m\u001b[0m\u001b[0m\n\u001b[0;32m   3831\u001b[0m         \"\"\"\n\u001b[1;32m-> 3832\u001b[1;33m         \u001b[0mvalue\u001b[0m \u001b[1;33m=\u001b[0m \u001b[0mself\u001b[0m\u001b[1;33m.\u001b[0m\u001b[0m_sanitize_column\u001b[0m\u001b[1;33m(\u001b[0m\u001b[0mvalue\u001b[0m\u001b[1;33m)\u001b[0m\u001b[1;33m\u001b[0m\u001b[1;33m\u001b[0m\u001b[0m\n\u001b[0m\u001b[0;32m   3833\u001b[0m \u001b[1;33m\u001b[0m\u001b[0m\n\u001b[0;32m   3834\u001b[0m         if (\n",
      "\u001b[1;32mD:\\Coding\\Anaconda3\\lib\\site-packages\\pandas\\core\\frame.py\u001b[0m in \u001b[0;36m_sanitize_column\u001b[1;34m(self, value)\u001b[0m\n\u001b[0;32m   4536\u001b[0m \u001b[1;33m\u001b[0m\u001b[0m\n\u001b[0;32m   4537\u001b[0m         \u001b[1;32mif\u001b[0m \u001b[0mis_list_like\u001b[0m\u001b[1;33m(\u001b[0m\u001b[0mvalue\u001b[0m\u001b[1;33m)\u001b[0m\u001b[1;33m:\u001b[0m\u001b[1;33m\u001b[0m\u001b[1;33m\u001b[0m\u001b[0m\n\u001b[1;32m-> 4538\u001b[1;33m             \u001b[0mcom\u001b[0m\u001b[1;33m.\u001b[0m\u001b[0mrequire_length_match\u001b[0m\u001b[1;33m(\u001b[0m\u001b[0mvalue\u001b[0m\u001b[1;33m,\u001b[0m \u001b[0mself\u001b[0m\u001b[1;33m.\u001b[0m\u001b[0mindex\u001b[0m\u001b[1;33m)\u001b[0m\u001b[1;33m\u001b[0m\u001b[1;33m\u001b[0m\u001b[0m\n\u001b[0m\u001b[0;32m   4539\u001b[0m         \u001b[1;32mreturn\u001b[0m \u001b[0msanitize_array\u001b[0m\u001b[1;33m(\u001b[0m\u001b[0mvalue\u001b[0m\u001b[1;33m,\u001b[0m \u001b[0mself\u001b[0m\u001b[1;33m.\u001b[0m\u001b[0mindex\u001b[0m\u001b[1;33m,\u001b[0m \u001b[0mcopy\u001b[0m\u001b[1;33m=\u001b[0m\u001b[1;32mTrue\u001b[0m\u001b[1;33m,\u001b[0m \u001b[0mallow_2d\u001b[0m\u001b[1;33m=\u001b[0m\u001b[1;32mTrue\u001b[0m\u001b[1;33m)\u001b[0m\u001b[1;33m\u001b[0m\u001b[1;33m\u001b[0m\u001b[0m\n\u001b[0;32m   4540\u001b[0m \u001b[1;33m\u001b[0m\u001b[0m\n",
      "\u001b[1;32mD:\\Coding\\Anaconda3\\lib\\site-packages\\pandas\\core\\common.py\u001b[0m in \u001b[0;36mrequire_length_match\u001b[1;34m(data, index)\u001b[0m\n\u001b[0;32m    555\u001b[0m     \"\"\"\n\u001b[0;32m    556\u001b[0m     \u001b[1;32mif\u001b[0m \u001b[0mlen\u001b[0m\u001b[1;33m(\u001b[0m\u001b[0mdata\u001b[0m\u001b[1;33m)\u001b[0m \u001b[1;33m!=\u001b[0m \u001b[0mlen\u001b[0m\u001b[1;33m(\u001b[0m\u001b[0mindex\u001b[0m\u001b[1;33m)\u001b[0m\u001b[1;33m:\u001b[0m\u001b[1;33m\u001b[0m\u001b[1;33m\u001b[0m\u001b[0m\n\u001b[1;32m--> 557\u001b[1;33m         raise ValueError(\n\u001b[0m\u001b[0;32m    558\u001b[0m             \u001b[1;34m\"Length of values \"\u001b[0m\u001b[1;33m\u001b[0m\u001b[1;33m\u001b[0m\u001b[0m\n\u001b[0;32m    559\u001b[0m             \u001b[1;34mf\"({len(data)}) \"\u001b[0m\u001b[1;33m\u001b[0m\u001b[1;33m\u001b[0m\u001b[0m\n",
      "\u001b[1;31mValueError\u001b[0m: Length of values (3) does not match length of index (479)"
     ]
    }
   ],
   "source": [
    "# Test your code  (leave this part unchanged)\n",
    "\n",
    "train_df = pd.read_csv(\"tic-tac-toe_train.csv\")\n",
    "\n",
    "new_train, one_hot = create_one_hot(train_df)\n",
    "\n",
    "test_df = pd.read_csv(\"tic-tac-toe_test.csv\")\n",
    "\n",
    "new_test_df = apply_one_hot(test_df,one_hot)\n",
    "display(\"new_test_df\",new_test_df)"
   ]
  },
  {
   "cell_type": "markdown",
   "metadata": {},
   "source": [
    "### Comment on assumptions, things that do not work properly, etc."
   ]
  },
  {
   "cell_type": "markdown",
   "metadata": {},
   "source": [
    "## 1f. Divide a dataset into a training and a test set"
   ]
  },
  {
   "cell_type": "code",
   "execution_count": 15,
   "metadata": {},
   "outputs": [],
   "source": [
    "# Insert the function split below\n",
    "#\n",
    "# Input to split:\n",
    "# df           - a dataframe\n",
    "# testfraction - a float in the range (0,1) (default = 0.5)\n",
    "#\n",
    "# Output from split:\n",
    "# trainingdf - a dataframe consisting of a random sample of (1-testfraction) of the rows in df\n",
    "# testdf     - a dataframe consisting of the rows in df that are not included in trainingdf\n",
    "#\n",
    "# Hint: You may use np.random.permutation(df.index) to get a permuted list of indexes where a \n",
    "#       prefix corresponds to the test instances, and the suffix to the training instances \n",
    "\n",
    "def split(df, testfraction=0.5):\n",
    "    rand_indices = np.random.permutation(df.index)\n",
    "    split_indices = int(len(rand_indices) * testfraction)\n",
    "\n",
    "    test_indices = rand_indices[:split_indices]\n",
    "    train_indices = rand_indices[split_indices:]\n",
    "    test_df = df.loc[test_indices]\n",
    "    train_df = df.loc[train_indices]\n",
    "\n",
    "    return train_df, test_df"
   ]
  },
  {
   "cell_type": "code",
   "execution_count": 16,
   "metadata": {},
   "outputs": [
    {
     "name": "stdout",
     "output_type": "stream",
     "text": [
      "Training IDs:\n",
      "[206 135 190 125  94  28 124  71  55 177 176 102 119  63  88  99 121  18\n",
      " 209  31 142 107 210 122 171 200 133 180 159 187  47  83 130  10  35  25\n",
      " 146  86  93 155 117 152 136 192 137 205 103  98  38  70  77  43  80  24\n",
      "  66  20  33  36 186 165  91 111 151 211  52 128 161 144 123 191 204  81\n",
      "   4 178  76 157 213  48 148 149 113 212  59  27 182 198 173 126 154  21\n",
      " 108 193 179  32 132  44  17  42 170 163  64  46  39  79  26 118  53 207\n",
      "  51 172  74 162  97   6 183 116  72 166  82  56 138  89 101  65   2 197\n",
      "  11  58 169  34  22 143   3 160  96  15 158  67  54 139  41  14 184 150\n",
      " 202 115 189 141 194   9  84 131 164 201 147 196 100  50  69  62  60]\n",
      "\n",
      "Test IDs:\n",
      "[114  78 120  23 188  90  12  37 195 203  45  95 140 156 129  75   5 199\n",
      " 185 181 104 153 109  57 105  68  29 168 214 145 106  13  85  49  30 208\n",
      "  92   1  16  19  40  87 112  61   8 167 134 174   7 110 127  73 175]\n",
      "\n",
      "Overlap: set()\n"
     ]
    }
   ],
   "source": [
    "# Test your code  (leave this part unchanged)\n",
    "\n",
    "glass_df = pd.read_csv(\"glass.csv\")\n",
    "\n",
    "glass_train, glass_test = split(glass_df,testfraction=0.25)\n",
    "\n",
    "print(\"Training IDs:\\n{}\".format(glass_train[\"ID\"].values))\n",
    "\n",
    "print(\"\\nTest IDs:\\n{}\".format(glass_test[\"ID\"].values))\n",
    "\n",
    "print(\"\\nOverlap: {}\".format(set(glass_train[\"ID\"]).intersection(set(glass_test[\"ID\"]))))"
   ]
  },
  {
   "cell_type": "markdown",
   "metadata": {},
   "source": [
    "### Comment on assumptions, things that do not work properly, etc."
   ]
  },
  {
   "cell_type": "markdown",
   "metadata": {},
   "source": [
    "## 1g. Calculate accuracy of a set of predictions"
   ]
  },
  {
   "cell_type": "code",
   "execution_count": 20,
   "metadata": {},
   "outputs": [],
   "source": [
    "# Insert the function accuracy below\n",
    "#\n",
    "# Input to accuracy:\n",
    "# df            - a dataframe with class labels as column names and each row corresponding to\n",
    "#                 a prediction with estimated probabilities for each class\n",
    "# correctlabels - an array (or list) of the correct class label for each prediction\n",
    "#                 (the number of correct labels must equal the number of rows in df)\n",
    "#\n",
    "# Output from accuracy:\n",
    "# accuracy - the fraction of cases for which the predicted class label coincides with the correct label\n",
    "#\n",
    "# Hint: In case the label receiving the highest probability is not unique, you may\n",
    "#       resolve that by picking the first (as ordered by the column names) or \n",
    "#       by randomly selecting one of the labels with highest probaility.\n",
    "\n",
    "def accuracy(predictions, correctlabels):\n",
    "\n",
    "    predictedlabels = predictions.idxmax(axis=1)\n",
    "    acc = sum(predictedlabels == correctlabels) / len(predictions)\n",
    "\n",
    "    return acc"
   ]
  },
  {
   "cell_type": "code",
   "execution_count": 21,
   "metadata": {},
   "outputs": [
    {
     "data": {
      "text/plain": [
       "'predictions'"
      ]
     },
     "metadata": {},
     "output_type": "display_data"
    },
    {
     "data": {
      "text/html": [
       "<div>\n",
       "<style scoped>\n",
       "    .dataframe tbody tr th:only-of-type {\n",
       "        vertical-align: middle;\n",
       "    }\n",
       "\n",
       "    .dataframe tbody tr th {\n",
       "        vertical-align: top;\n",
       "    }\n",
       "\n",
       "    .dataframe thead th {\n",
       "        text-align: right;\n",
       "    }\n",
       "</style>\n",
       "<table border=\"1\" class=\"dataframe\">\n",
       "  <thead>\n",
       "    <tr style=\"text-align: right;\">\n",
       "      <th></th>\n",
       "      <th>A</th>\n",
       "      <th>B</th>\n",
       "      <th>C</th>\n",
       "    </tr>\n",
       "  </thead>\n",
       "  <tbody>\n",
       "    <tr>\n",
       "      <th>0</th>\n",
       "      <td>0.50</td>\n",
       "      <td>0.50</td>\n",
       "      <td>0.00</td>\n",
       "    </tr>\n",
       "    <tr>\n",
       "      <th>1</th>\n",
       "      <td>0.50</td>\n",
       "      <td>0.25</td>\n",
       "      <td>0.25</td>\n",
       "    </tr>\n",
       "    <tr>\n",
       "      <th>2</th>\n",
       "      <td>0.50</td>\n",
       "      <td>0.25</td>\n",
       "      <td>0.25</td>\n",
       "    </tr>\n",
       "    <tr>\n",
       "      <th>3</th>\n",
       "      <td>0.25</td>\n",
       "      <td>0.50</td>\n",
       "      <td>0.25</td>\n",
       "    </tr>\n",
       "    <tr>\n",
       "      <th>4</th>\n",
       "      <td>0.25</td>\n",
       "      <td>0.25</td>\n",
       "      <td>0.50</td>\n",
       "    </tr>\n",
       "  </tbody>\n",
       "</table>\n",
       "</div>"
      ],
      "text/plain": [
       "      A     B     C\n",
       "0  0.50  0.50  0.00\n",
       "1  0.50  0.25  0.25\n",
       "2  0.50  0.25  0.25\n",
       "3  0.25  0.50  0.25\n",
       "4  0.25  0.25  0.50"
      ]
     },
     "metadata": {},
     "output_type": "display_data"
    }
   ],
   "source": [
    "# Test your code  (leave this part unchanged)\n",
    "\n",
    "predictions = pd.DataFrame({\"A\":[0.5,0.5,0.5,0.25,0.25],\"B\":[0.5,0.25,0.25,0.5,0.25],\"C\":[0.0,0.25,0.25,0.25,0.5]})\n",
    "display(\"predictions\",predictions)"
   ]
  },
  {
   "cell_type": "code",
   "execution_count": 19,
   "metadata": {},
   "outputs": [
    {
     "name": "stdout",
     "output_type": "stream",
     "text": [
      "Accuracy: 0.6\n"
     ]
    }
   ],
   "source": [
    "correctlabels = [\"B\",\"A\",\"B\",\"B\",\"C\"]\n",
    "\n",
    "print(\"Accuracy: {}\".format(accuracy(predictions,correctlabels))) # Note that depending on how ties are resolved the accuracy may be 0.6 or 0.8"
   ]
  },
  {
   "cell_type": "markdown",
   "metadata": {},
   "source": [
    "### Comment on assumptions, things that do not work properly, etc."
   ]
  },
  {
   "cell_type": "markdown",
   "metadata": {},
   "source": [
    "## 2a. Divide a dataset into a number of folds"
   ]
  },
  {
   "cell_type": "code",
   "execution_count": 17,
   "metadata": {},
   "outputs": [],
   "source": [
    "# Insert the function folds below\n",
    "#\n",
    "# Input to folds:\n",
    "# df      - a dataframe\n",
    "# nofolds - an integer greater than 1 (default = 10)\n",
    "#\n",
    "# Output from folds:\n",
    "# folds - a list (of length = nofolds) dataframes consisting of random non-overlapping, \n",
    "#         approximately equal-sized subsets of the rows in df\n",
    "#\n",
    "# Hint: You may use np.random.permutation(df.index) to get a permuted list of indexes from which a \n",
    "#       prefix corresponds to the test instances, and the suffix to the training instances \n",
    "\n"
   ]
  },
  {
   "cell_type": "code",
   "execution_count": 18,
   "metadata": {},
   "outputs": [
    {
     "name": "stdout",
     "output_type": "stream",
     "text": [
      "Fold sizes:[43, 43, 43, 43, 42]\n",
      "Total no. instances: 214\n"
     ]
    }
   ],
   "source": [
    "# Test your code  (leave this part unchanged)\n",
    "\n",
    "glass_df = pd.read_csv(\"glass.csv\")\n",
    "\n",
    "glass_folds = folds(glass_df,nofolds=5)\n",
    "\n",
    "fold_sizes = [len(f) for f in glass_folds]\n",
    "\n",
    "print(\"Fold sizes:{}\\nTotal no. instances: {}\".format(fold_sizes,sum(fold_sizes)))"
   ]
  },
  {
   "cell_type": "markdown",
   "metadata": {},
   "source": [
    "### Comment on assumptions, things that do not work properly, etc."
   ]
  },
  {
   "cell_type": "markdown",
   "metadata": {},
   "source": [
    "## 2b. Calculate Brier score of a set of predictions"
   ]
  },
  {
   "cell_type": "code",
   "execution_count": 19,
   "metadata": {},
   "outputs": [],
   "source": [
    "# Insert the function brier_score below\n",
    "#\n",
    "# Input to brier_score:\n",
    "# df            - a dataframe with class labels as column names and each row corresponding to\n",
    "#                 a prediction with estimated probabilities for each class\n",
    "# correctlabels - an array (or list) of the correct class label for each prediction\n",
    "#                 (the number of correct labels must equal the number of rows in df)\n",
    "#\n",
    "# Output from brier_score:\n",
    "# brier_score - the average square error of the predicted probabilties \n",
    "#\n",
    "# Hint: Compare each predicted vector to a vector for each correct label, which is all zeros except \n",
    "#       for at the index of the correct class. The index can be found using np.where(df.columns==l)[0] \n",
    "#       where l is the correct label.\n",
    "\n"
   ]
  },
  {
   "cell_type": "code",
   "execution_count": 20,
   "metadata": {},
   "outputs": [
    {
     "name": "stdout",
     "output_type": "stream",
     "text": [
      "Brier score: 0.5\n"
     ]
    }
   ],
   "source": [
    "# Test your code  (leave this part unchanged)\n",
    "\n",
    "predictions = pd.DataFrame({\"A\":[0.5,0.5,0.5,0.25,0.25],\"B\":[0.5,0.25,0.25,0.5,0.25],\"C\":[0.0,0.25,0.25,0.25,0.5]})\n",
    "\n",
    "correctlabels = [\"B\",\"A\",\"B\",\"B\",\"C\"]\n",
    "\n",
    "print(\"Brier score: {}\".format(brier_score(predictions,correctlabels)))"
   ]
  },
  {
   "cell_type": "markdown",
   "metadata": {},
   "source": [
    "### Comment on assumptions, things that do not work properly, etc."
   ]
  },
  {
   "cell_type": "markdown",
   "metadata": {},
   "source": [
    "## 2c. Calculate AUC of a set of predictions"
   ]
  },
  {
   "cell_type": "code",
   "execution_count": 21,
   "metadata": {},
   "outputs": [],
   "source": [
    "# Insert the function auc below\n",
    "#\n",
    "# Input to auc:\n",
    "# df            - a dataframe with class labels as column names and each row corresponding to\n",
    "#                 a prediction with estimated probabilities for each class\n",
    "# correctlabels - an array (or list) of the correct class label for each prediction\n",
    "#                 (the number of correct labels must equal the number of rows in df)\n",
    "#\n",
    "# Output from auc:\n",
    "# auc - the weighted area under ROC curve\n",
    "#\n",
    "# Hint 1: Calculate the binary AUC first for each class label c, i.e., treating the\n",
    "#         predicted probability of this class for each instance as a score; the true positives\n",
    "#         are the ones belonging to class c and the false positives the rest\n",
    "#\n",
    "# Hint 2: When calculating the binary AUC, first find the scores of the true positives and then\n",
    "#         the scores of the true negatives\n",
    "#\n",
    "# Hint 3: You may use a dictionary with a mapping from each score to an array of two numbers; \n",
    "#         the number of true positives with this score and the number of true negatives with this score\n",
    "#\n",
    "# Hint 4: Created a (reversely) sorted (on the scores) list of pairs from the dictionary and\n",
    "#         iterate over this to additively calculate the AUC\n",
    "#\n",
    "# Hint 5: For each pair in the above list, there are three cases to consider; the no. of false positives\n",
    "#         is zero, the no. of true positives is zero, and both are non-zero\n",
    "#\n",
    "# Hint 6: Calculate the weighted AUC by summing the individual AUCs weighted by the relative\n",
    "#         frequency of each class (as estimated from the correct labels)\n",
    "\n"
   ]
  },
  {
   "cell_type": "code",
   "execution_count": 22,
   "metadata": {},
   "outputs": [
    {
     "name": "stdout",
     "output_type": "stream",
     "text": [
      "AUC: 0.375\n"
     ]
    }
   ],
   "source": [
    "# Test your code  (leave this part unchanged)\n",
    "\n",
    "predictions = pd.DataFrame({\"A\":[0.9,0.9,0.6,0.55],\"B\":[0.1,0.1,0.4,0.45]})\n",
    "\n",
    "correctlabels = [\"A\",\"B\",\"B\",\"A\"]\n",
    "\n",
    "print(\"AUC: {}\".format(auc(predictions,correctlabels)))"
   ]
  },
  {
   "cell_type": "code",
   "execution_count": 23,
   "metadata": {},
   "outputs": [
    {
     "name": "stdout",
     "output_type": "stream",
     "text": [
      "AUC: 0.8499999999999999\n"
     ]
    }
   ],
   "source": [
    "predictions = pd.DataFrame({\"A\":[0.5,0.5,0.5,0.25,0.25],\"B\":[0.5,0.25,0.25,0.5,0.25],\"C\":[0.0,0.25,0.25,0.25,0.5]})\n",
    "\n",
    "correctlabels = [\"B\",\"A\",\"B\",\"B\",\"C\"]\n",
    "\n",
    "print(\"AUC: {}\".format(auc(predictions,correctlabels)))"
   ]
  },
  {
   "cell_type": "markdown",
   "metadata": {},
   "source": [
    "### Comment on assumptions, things that do not work properly, etc."
   ]
  }
 ],
 "metadata": {
  "kernelspec": {
   "display_name": "Python 3 (ipykernel)",
   "language": "python",
   "name": "python3"
  },
  "language_info": {
   "codemirror_mode": {
    "name": "ipython",
    "version": 3
   },
   "file_extension": ".py",
   "mimetype": "text/x-python",
   "name": "python",
   "nbconvert_exporter": "python",
   "pygments_lexer": "ipython3",
   "version": "3.9.13"
  }
 },
 "nbformat": 4,
 "nbformat_minor": 4
}
